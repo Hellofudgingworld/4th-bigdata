{
  "nbformat": 4,
  "nbformat_minor": 0,
  "metadata": {
    "colab": {
      "name": "titanic_4th_baseline.ipynb",
      "provenance": [],
      "collapsed_sections": []
    },
    "kernelspec": {
      "name": "python3",
      "display_name": "Python 3"
    }
  },
  "cells": [
    {
      "cell_type": "markdown",
      "metadata": {
        "id": "5E5-1x2Ovtjq",
        "colab_type": "text"
      },
      "source": [
        "# 제3회 KISTI 캐글 대회\n",
        "- https://www.kaggle.com/c/kisti-kaggle-competition-3rd\n"
      ]
    },
    {
      "cell_type": "markdown",
      "metadata": {
        "id": "F1HoYxmYsigA",
        "colab_type": "text"
      },
      "source": [
        "## 사전 준비\n",
        "### 1. 캐글 가입\n",
        "- www.kaggle.com\n",
        "\n"
      ]
    },
    {
      "cell_type": "markdown",
      "metadata": {
        "id": "6diBZOwYx5f3",
        "colab_type": "text"
      },
      "source": [
        "## 2. KISTI 캐글 대회 참가 등록\n",
        "- private 대회(in class)로 아래 링크를 이용하여 대회 참가 (Rules 승인)\n",
        "    - https://www.kaggle.com/t/54387f1b72da49cbaf6437f23ba6b7ef\n",
        "    \n",
        "\n"
      ]
    },
    {
      "cell_type": "markdown",
      "metadata": {
        "id": "IunioBv5zeJC",
        "colab_type": "text"
      },
      "source": [
        "## 3. 데이터 다운로드 및 구글 드라이브에 올리기\n",
        "### 1) 3 개의 파일 다운로드\n",
        "- 훈련용 데이터: train.csv\n",
        "- 테스트 데이터: test.csv\n",
        "- 결과파일 샘플: sample_submission.csv\n",
        "\n",
        "### 2) 구글 드라이브 위치\n",
        "- My Drive / 4th_2020 / kisti_kaggle / datasets"
      ]
    },
    {
      "cell_type": "markdown",
      "metadata": {
        "id": "WmTjnT4vzJgF",
        "colab_type": "text"
      },
      "source": [
        "### 4. titanic_4th_baseline.ipynb colab 실행\n",
        "- 구글 드라이브 마운트\n",
        "- 작업 디렉토리 설정"
      ]
    },
    {
      "cell_type": "markdown",
      "metadata": {
        "id": "FRBvxhrfx5dB",
        "colab_type": "text"
      },
      "source": [
        "## BASELINE 테스트\n",
        "### 1) ALL_1_submission.csv 파일 만들기 & Rank 확인\n",
        "### 2) ALL_0.submission.csv 파일 만들기 & Rank 확인\n",
        "### 3) baseline_submission.csv 파일 만들기 & Rank 확인\n"
      ]
    },
    {
      "cell_type": "code",
      "metadata": {
        "id": "X3ukVqX_x5aM",
        "colab_type": "code",
        "colab": {}
      },
      "source": [
        ""
      ],
      "execution_count": 0,
      "outputs": []
    },
    {
      "cell_type": "code",
      "metadata": {
        "id": "jhFdkgoiVb7J",
        "colab_type": "code",
        "colab": {}
      },
      "source": [
        "!pip install ipython-autotime\n",
        "%load_ext autotime"
      ],
      "execution_count": 0,
      "outputs": []
    },
    {
      "cell_type": "code",
      "metadata": {
        "id": "PNpV9aFR6_pU",
        "colab_type": "code",
        "colab": {}
      },
      "source": [
        "!pwd"
      ],
      "execution_count": 0,
      "outputs": []
    },
    {
      "cell_type": "code",
      "metadata": {
        "id": "hT6qOxsqTAz8",
        "colab_type": "code",
        "colab": {}
      },
      "source": [
        "!ls -al"
      ],
      "execution_count": 0,
      "outputs": []
    },
    {
      "cell_type": "code",
      "metadata": {
        "id": "zvW7pZdLlsgJ",
        "colab_type": "code",
        "colab": {}
      },
      "source": [
        "# 구글 드라이브 마운트\n",
        "from google.colab import drive\n",
        "drive.mount('gdrive')"
      ],
      "execution_count": 0,
      "outputs": []
    },
    {
      "cell_type": "code",
      "metadata": {
        "id": "_OvJUKaHrPxp",
        "colab_type": "code",
        "colab": {}
      },
      "source": [
        "!ls -al ./gdrive\n"
      ],
      "execution_count": 0,
      "outputs": []
    },
    {
      "cell_type": "code",
      "metadata": {
        "id": "h7KXI3iu7nxw",
        "colab_type": "code",
        "colab": {}
      },
      "source": [
        "# 작업 디렉토리로 이동\n",
        "%cd \"/content/gdrive/My Drive/4th_2020/kisti_kaggle\"\n",
        "# 데이터셋 확인 \n",
        "!ls -al ./datasets"
      ],
      "execution_count": 0,
      "outputs": []
    },
    {
      "cell_type": "code",
      "metadata": {
        "id": "drDeFQn3iQR_",
        "colab_type": "code",
        "colab": {}
      },
      "source": [
        "!pip install missingno"
      ],
      "execution_count": 0,
      "outputs": []
    },
    {
      "cell_type": "code",
      "metadata": {
        "id": "68B6_nIge1a3",
        "colab_type": "code",
        "colab": {}
      },
      "source": [
        "import numpy as np\n",
        "import pandas as pd\n",
        "import matplotlib.pyplot as plt\n",
        "import seaborn as sns\n",
        "\n",
        "# seaborn scheme 설정\n",
        "plt.style.use('seaborn')\n",
        "# 그래프의 폰트 설정\n",
        "sns.set(font_scale=2.5) \n",
        "# 데이터셋의 missing data 쉽게 보여주기\n",
        "import missingno as msno\n",
        "\n",
        "#ignore warnings\n",
        "#import warnings\n",
        "#warnings.filterwarnings('ignore')\n",
        "\n",
        "%matplotlib inline"
      ],
      "execution_count": 0,
      "outputs": []
    },
    {
      "cell_type": "markdown",
      "metadata": {
        "id": "vGvRr88bgfIY",
        "colab_type": "text"
      },
      "source": [
        "- [참고] matplotlib style\n",
        "  - https://tonysyu.github.io/raw_content/matplotlib-style-gallery/gallery.html"
      ]
    },
    {
      "cell_type": "markdown",
      "metadata": {
        "id": "ryzDWH2uiZp3",
        "colab_type": "text"
      },
      "source": [
        "### 작업 내용\n",
        "- 1) 데이터셋 확인\n",
        "  - null data 와 같은 데이터를 확인 및 수정\n",
        "- 2) 탐색적 데이터 분석(Exploratory Data Analysis)\n",
        "  - 여러 feature들을 개별적으로 분석\n",
        "  - feature들 간의 상관 관계 확인\n",
        "  - 여러 시각화 도구들을 사용\n",
        "- 3) Feature Engineering\n",
        "  - 모델을 만들기 전, 모델 성능을 높이기 위한 feature들을 engineering\n",
        "  - one-hot encoding, class로 나누기, text 데이터 처리 등\n",
        "- 4) Model 만들기\n",
        "  - sklearn을 사용하여 모델 만들기\n",
        "  - tensorflow, pytorch 등 딥러닝 프레임워크 사용도 가능\n",
        "- 5) 모델 학습 및 예측\n",
        "  - train set 을 가지고 모델 학습\n",
        "  - test set을 사용하여 prediction\n",
        "- 6) 모델 평가\n",
        "  - 학습된 모델에 대한 예측 성능 평가"
      ]
    },
    {
      "cell_type": "markdown",
      "metadata": {
        "id": "Yk2fhaJQjcXz",
        "colab_type": "text"
      },
      "source": [
        "## 1. Dataset 확인\n",
        "- 데이터를 테이블화하여 다루는 것이 편리\n",
        "- pandas를 사용\n",
        "  - 간단한 통계적 분석부터 복잡한 처리들을 간단한 메소드를 사용하여 처리\n"
      ]
    },
    {
      "cell_type": "code",
      "metadata": {
        "id": "ciX2YjALm7ao",
        "colab_type": "code",
        "colab": {}
      },
      "source": [
        "#WORK_DIR = '/content'\n",
        "WORK_DIR = '.'\n",
        "df_train = pd.read_csv(WORK_DIR + '/datasets/train.csv')\n",
        "df_test = pd.read_csv(WORK_DIR + '/datasets/test.csv')"
      ],
      "execution_count": 0,
      "outputs": []
    },
    {
      "cell_type": "code",
      "metadata": {
        "id": "btDMYS4-k5__",
        "colab_type": "code",
        "colab": {}
      },
      "source": [
        "# 데이터 셋 살펴보기\n",
        "df_train.head()"
      ],
      "execution_count": 0,
      "outputs": []
    },
    {
      "cell_type": "code",
      "metadata": {
        "id": "j4N-wNkaOXbp",
        "colab_type": "code",
        "colab": {}
      },
      "source": [
        "df_test.head()"
      ],
      "execution_count": 0,
      "outputs": []
    },
    {
      "cell_type": "markdown",
      "metadata": {
        "id": "QvrCPJ4pk9q_",
        "colab_type": "text"
      },
      "source": [
        "##### Features\n",
        "- pclass : 클래스, Integer\n",
        "- age : 나이, Integer\n",
        "- sibsp : 형제와 배우자의 수, Integer\n",
        "- parch : 부모와 아이의 수, Integer\n",
        "- fare : 탑승료, Float\n",
        "- survived : 생존여부, Integer (target label)\n"
      ]
    },
    {
      "cell_type": "code",
      "metadata": {
        "id": "V3O13vQrlFwE",
        "colab_type": "code",
        "colab": {}
      },
      "source": [
        "# 통계적 수치 보기\n",
        "df_train.describe()"
      ],
      "execution_count": 0,
      "outputs": []
    },
    {
      "cell_type": "code",
      "metadata": {
        "id": "k_M2Us_O2xAf",
        "colab_type": "code",
        "colab": {}
      },
      "source": [
        "df_test.describe()"
      ],
      "execution_count": 0,
      "outputs": []
    },
    {
      "cell_type": "markdown",
      "metadata": {
        "id": "2Xx3N0aF2zun",
        "colab_type": "text"
      },
      "source": [
        "### NULL 데이터 체크"
      ]
    },
    {
      "cell_type": "code",
      "metadata": {
        "id": "Q6i6yDv_4B2u",
        "colab_type": "code",
        "colab": {}
      },
      "source": [
        "# 학습 데이터 체크\n",
        "for col in df_train.columns:\n",
        "    print('column: {:>10}\\t Percent of NULL value: {:.2f}%'.format(col, \n",
        "          100 * (df_train[col].isnull().sum() / df_train[col].shape[0])))\n"
      ],
      "execution_count": 0,
      "outputs": []
    },
    {
      "cell_type": "markdown",
      "metadata": {
        "id": "j-KDRMnX4mTe",
        "colab_type": "text"
      },
      "source": [
        "- Age(약 20%), Cabin(약 80%), Embarked(약 0.2%)의 null data 존재 확인"
      ]
    },
    {
      "cell_type": "code",
      "metadata": {
        "id": "NcbJniojvkxV",
        "colab_type": "code",
        "colab": {}
      },
      "source": [
        "df_train.info()"
      ],
      "execution_count": 0,
      "outputs": []
    },
    {
      "cell_type": "code",
      "metadata": {
        "id": "exCCs1XK37MH",
        "colab_type": "code",
        "colab": {}
      },
      "source": [
        "# 테스트 데이터 체크\n",
        "for col in df_test.columns:\n",
        "    print('column: {:>10}\\t Percent of NULL value: {:.2f}%'.format(col, \n",
        "          100 * (df_test[col].isnull().sum() / df_test[col].shape[0])))"
      ],
      "execution_count": 0,
      "outputs": []
    },
    {
      "cell_type": "code",
      "metadata": {
        "id": "QgjrYUudv3o7",
        "colab_type": "code",
        "colab": {}
      },
      "source": [
        "df_test.info()"
      ],
      "execution_count": 0,
      "outputs": []
    },
    {
      "cell_type": "markdown",
      "metadata": {
        "id": "70o5rsHL46W3",
        "colab_type": "text"
      },
      "source": [
        "##### MSNO 라이브러리를 사용하여 null data 확인"
      ]
    },
    {
      "cell_type": "code",
      "metadata": {
        "id": "EmJeLzHP51WD",
        "colab_type": "code",
        "colab": {}
      },
      "source": [
        "# null data 분포 확인\n",
        "msno.matrix(df=df_train.iloc[:, :], figsize=(8, 8), color=(0.8, 0.5, 0.2))"
      ],
      "execution_count": 0,
      "outputs": []
    },
    {
      "cell_type": "code",
      "metadata": {
        "id": "ICu0gI_M59tU",
        "colab_type": "code",
        "colab": {}
      },
      "source": [
        "# null data 수로 확인\n",
        "msno.bar(df=df_train.iloc[:, :], figsize=(8, 8), color=(0.8, 0.5, 0.2))"
      ],
      "execution_count": 0,
      "outputs": []
    },
    {
      "cell_type": "code",
      "metadata": {
        "id": "dqEj59VO6Pyb",
        "colab_type": "code",
        "colab": {}
      },
      "source": [
        ""
      ],
      "execution_count": 0,
      "outputs": []
    },
    {
      "cell_type": "markdown",
      "metadata": {
        "id": "iHSMN3Hi6vcm",
        "colab_type": "text"
      },
      "source": [
        "### Target Label 확인\n",
        "- target label 이 어떤 분포를 가지고 있는지 확인\n",
        "- binary classification 같은 경우, 1과 0의 분포에 따라 모델 평가 방법이 달라질 수 있음"
      ]
    },
    {
      "cell_type": "code",
      "metadata": {
        "id": "HznFnV5dwdCF",
        "colab_type": "code",
        "colab": {}
      },
      "source": [
        "df_train['Survived'].value_counts()"
      ],
      "execution_count": 0,
      "outputs": []
    },
    {
      "cell_type": "code",
      "metadata": {
        "id": "wKGWnHfa7GRF",
        "colab_type": "code",
        "colab": {}
      },
      "source": [
        "# 1행 2열 팔레트, 크기(세로:18, 가로:8)\n",
        "f, ax = plt.subplots(1, 2, figsize=(18, 8))\n",
        "\n",
        "# 파이 차트로 그리기\n",
        "# value_counts() 의 data type은 series이며,\n",
        "# series 타입은 plot을 가짐\n",
        "# plt.plot(df_train['Survived'].value_counts()) 은 df_train[..]...plot()과 동일\n",
        "df_train['Survived'].value_counts().plot.pie(explode=[0, 0.1], \n",
        "                           autopct='%1.1f%%', ax=ax[0], shadow=True)\n",
        "ax[0].set_title('Pie plot - Survived')\n",
        "ax[0].set_ylabel('')\n",
        "\n",
        "sns.countplot('Survived', data=df_train, ax=ax[1])\n",
        "ax[1].set_title('Count plot - Survived')\n",
        "\n",
        "plt.show()"
      ],
      "execution_count": 0,
      "outputs": []
    },
    {
      "cell_type": "markdown",
      "metadata": {
        "id": "-ip1hZR17MTW",
        "colab_type": "text"
      },
      "source": [
        "- 38.4% 가 살아남음\n",
        "- target label 의 분포가 어느 정도 균일(balanced)함\n"
      ]
    },
    {
      "cell_type": "code",
      "metadata": {
        "id": "a03J89FY88so",
        "colab_type": "code",
        "colab": {}
      },
      "source": [
        "df_train['Survived'].value_counts().plot()"
      ],
      "execution_count": 0,
      "outputs": []
    },
    {
      "cell_type": "code",
      "metadata": {
        "id": "qYOevraK8_zj",
        "colab_type": "code",
        "colab": {}
      },
      "source": [
        "plt.plot(df_train['Survived'].value_counts())"
      ],
      "execution_count": 0,
      "outputs": []
    },
    {
      "cell_type": "markdown",
      "metadata": {
        "id": "kVLz5fJj9FtZ",
        "colab_type": "text"
      },
      "source": [
        "- [참고] plotly"
      ]
    },
    {
      "cell_type": "code",
      "metadata": {
        "id": "JBDhHc14_ake",
        "colab_type": "code",
        "colab": {}
      },
      "source": [
        ""
      ],
      "execution_count": 0,
      "outputs": []
    },
    {
      "cell_type": "markdown",
      "metadata": {
        "id": "SriNjdOz_dWA",
        "colab_type": "text"
      },
      "source": [
        "## 2. Exploratory Data Analysis (EDA, 탐색적 데이터 분석)"
      ]
    },
    {
      "cell_type": "code",
      "metadata": {
        "id": "MqEMYqWQ_soh",
        "colab_type": "code",
        "colab": {}
      },
      "source": [
        "# 11개의 feature, 1개의 target label \n",
        "df_train.shape"
      ],
      "execution_count": 0,
      "outputs": []
    },
    {
      "cell_type": "markdown",
      "metadata": {
        "id": "IOVwkzNH_vqS",
        "colab_type": "text"
      },
      "source": [
        "### Pclass (클래스)\n",
        "- ordinal, 서수형 데이터, 카테고리형, 순서 있음\n",
        "- pclass에 따른 생존률 차이 살펴보기\n",
        "  - pandas의 group by 사용"
      ]
    },
    {
      "cell_type": "code",
      "metadata": {
        "id": "s1pVkwgeASjw",
        "colab_type": "code",
        "colab": {}
      },
      "source": [
        "# Pclass 별 항목 갯수\n",
        "df_train[['Pclass', 'Survived']].groupby(['Pclass'], as_index=True).count()"
      ],
      "execution_count": 0,
      "outputs": []
    },
    {
      "cell_type": "code",
      "metadata": {
        "id": "F_jGp88TAUxs",
        "colab_type": "code",
        "colab": {}
      },
      "source": [
        "# Pclass별 생존자 수\n",
        "# P1(136/216), P2(87/184), P3(119/491)\n",
        "df_train[['Pclass', 'Survived']].groupby(['Pclass'], as_index=True).sum()"
      ],
      "execution_count": 0,
      "outputs": []
    },
    {
      "cell_type": "code",
      "metadata": {
        "id": "Yun1r7ioApq1",
        "colab_type": "code",
        "colab": {}
      },
      "source": [
        "# crosstab 으로 확인\n",
        "pd.crosstab(df_train['Pclass'], df_train['Survived'], \n",
        "            margins=True).style.background_gradient(cmap='summer_r')"
      ],
      "execution_count": 0,
      "outputs": []
    },
    {
      "cell_type": "code",
      "metadata": {
        "id": "eU-1DKaTBaGy",
        "colab_type": "code",
        "colab": {}
      },
      "source": [
        "# 클래스별 생존률\n",
        "# P1 : (136 / (80+136)) => 63%\n",
        "df_train[['Pclass', 'Survived']].groupby(['Pclass'], \n",
        "             as_index=True).mean().sort_values(by='Survived', \n",
        "                                   ascending=False).plot.bar()"
      ],
      "execution_count": 0,
      "outputs": []
    },
    {
      "cell_type": "markdown",
      "metadata": {
        "id": "mhacrZK4B7Uv",
        "colab_type": "text"
      },
      "source": [
        "- Pclass가 좋을 수록 생존률이 높음"
      ]
    },
    {
      "cell_type": "code",
      "metadata": {
        "id": "3zTMPjJJC8Se",
        "colab_type": "code",
        "colab": {}
      },
      "source": [
        "# label에 따른 갯수 확인\n",
        "y_position = 1.02\n",
        "f, ax = plt.subplots(1, 2, figsize=(18, 8))\n",
        "df_train['Pclass'].value_counts().plot.bar(\n",
        "    color=['#CD7F32','#FFDF00','#D3D3D3'], ax=ax[0])\n",
        "ax[0].set_title('Number of Passengers By Pclass', y=y_position)\n",
        "ax[0].set_ylabel('Count')\n",
        "sns.countplot('Pclass', hue='Survived', data=df_train, ax=ax[1])\n",
        "ax[1].set_title('Pclass: Survived vs Dead', y=y_position)\n",
        "plt.show()"
      ],
      "execution_count": 0,
      "outputs": []
    },
    {
      "cell_type": "markdown",
      "metadata": {
        "id": "wupe3uECDBRr",
        "colab_type": "text"
      },
      "source": [
        "- 클래스가 높을 수록(1st class) 생존 확률이 높음\n",
        "  - P1(63%), P2(48%), P3(25%)\n",
        "- 생존에 Pclass가 큰 영향을 미친다고 생각할 수 있음\n",
        "  - 모델을 만들 때, Pclass feature를 사용하는 것이 좋을 것이라 판단할 수 있음"
      ]
    },
    {
      "cell_type": "markdown",
      "metadata": {
        "id": "As5JFs5pEaim",
        "colab_type": "text"
      },
      "source": [
        "### 성별(Sex)\n",
        "- 성별로 생존률 확인\n",
        "- pandas groupby와 seaborn countplot 사용\n"
      ]
    },
    {
      "cell_type": "code",
      "metadata": {
        "id": "O_d-8ZFOEjYY",
        "colab_type": "code",
        "colab": {}
      },
      "source": [
        "f, ax = plt.subplots(1, 2, figsize=(18, 8))\n",
        "df_train[['Sex', 'Survived']].groupby(['Sex'], \n",
        "                          as_index=True).mean().plot.bar(ax=ax[0])\n",
        "ax[0].set_title('Survived vs Sex')\n",
        "sns.countplot('Sex', hue='Survived', data=df_train, ax=ax[1])\n",
        "ax[1].set_title('Sex: Survived vs Dead')\n",
        "plt.show()"
      ],
      "execution_count": 0,
      "outputs": []
    },
    {
      "cell_type": "markdown",
      "metadata": {
        "id": "um3stg3GFTT4",
        "colab_type": "text"
      },
      "source": [
        "- female(여성)이 생존할 확률이 높음"
      ]
    },
    {
      "cell_type": "code",
      "metadata": {
        "id": "iPwEMDFFF0bJ",
        "colab_type": "code",
        "colab": {}
      },
      "source": [
        "df_train[['Sex', 'Survived']].groupby(['Sex'], \n",
        "            as_index=False).mean().sort_values(by='Survived', ascending=False)"
      ],
      "execution_count": 0,
      "outputs": []
    },
    {
      "cell_type": "code",
      "metadata": {
        "id": "T42kHLE-F4Mh",
        "colab_type": "code",
        "colab": {}
      },
      "source": [
        "# crosstab 으로 확인\n",
        "pd.crosstab(df_train['Sex'], df_train['Survived'], \n",
        "            margins=True).style.background_gradient(cmap='summer_r')"
      ],
      "execution_count": 0,
      "outputs": []
    },
    {
      "cell_type": "markdown",
      "metadata": {
        "id": "TVpefy3hGD30",
        "colab_type": "text"
      },
      "source": [
        "- Pclass와 마찬가지로, Sex도 예측 모델에 중요한 feature 임을 알 수 있음"
      ]
    },
    {
      "cell_type": "markdown",
      "metadata": {
        "id": "oJiVHsNdGWqh",
        "colab_type": "text"
      },
      "source": [
        "### Pclass 와 Sex\n",
        "- Pclass와 Sex 두 feature에 대한 생존 확률 확인"
      ]
    },
    {
      "cell_type": "code",
      "metadata": {
        "id": "j1FAyVc1G-01",
        "colab_type": "code",
        "colab": {}
      },
      "source": [
        "# 3개의 차원 데이터로 이루어진 그래프 그리기\n",
        "sns.factorplot('Pclass', 'Survived', hue='Sex', data=df_train, \n",
        "               size=6, aspect=1.5)"
      ],
      "execution_count": 0,
      "outputs": []
    },
    {
      "cell_type": "markdown",
      "metadata": {
        "id": "y6Ajb7MDHNWY",
        "colab_type": "text"
      },
      "source": [
        "- 모든 클래스에서 female이 생존할 확률이 male 보다 높음\n",
        "- 남, 여 상관없이 클래스가 높을 수록 생존 확률이 높음"
      ]
    },
    {
      "cell_type": "code",
      "metadata": {
        "id": "D3Fma4G1HdE1",
        "colab_type": "code",
        "colab": {}
      },
      "source": [
        "# cloumn 대신 hue 사용\n",
        "sns.factorplot(x='Sex', y='Survived', col='Pclass',\n",
        "              data=df_train, satureation=.5,\n",
        "               size=9, aspect=1)\n",
        "sns.factorplot(x='Sex', y='Survived', hue='Pclass',\n",
        "              data=df_train, satureation=.5,\n",
        "               size=9, aspect=1)"
      ],
      "execution_count": 0,
      "outputs": []
    },
    {
      "cell_type": "markdown",
      "metadata": {
        "id": "qTlC93JDIL4u",
        "colab_type": "text"
      },
      "source": [
        "- [찾아보기] error bar"
      ]
    },
    {
      "cell_type": "markdown",
      "metadata": {
        "id": "vdaDksE-Hg-l",
        "colab_type": "text"
      },
      "source": [
        "### Age\n",
        "- 나이에 따른 생존 확률 확인"
      ]
    },
    {
      "cell_type": "code",
      "metadata": {
        "id": "gA45wtV6H93K",
        "colab_type": "code",
        "colab": {}
      },
      "source": [
        "# 간단한 통계 보기\n",
        "print('제일 나이 많은 탑승객 : {:.1f} Years'.format(df_train['Age'].max()))\n",
        "print('제일 어린 탑승객 : {:.1f} Years'.format(df_train['Age'].min()))\n",
        "print('탑승객 평균 나이 : {:.1f} Years'.format(df_train['Age'].mean()))"
      ],
      "execution_count": 0,
      "outputs": []
    },
    {
      "cell_type": "code",
      "metadata": {
        "id": "k5yj24hRIGb5",
        "colab_type": "code",
        "colab": {}
      },
      "source": [
        "# 생존에 따른 Age의 히스토그램\n",
        "# kdeplot()\n",
        "fig, ax = plt.subplots(1, 1, figsize=(9, 5))\n",
        "sns.kdeplot(df_train[df_train['Survived'] == 1]['Age'], ax=ax)\n",
        "sns.kdeplot(df_train[df_train['Survived'] == 0]['Age'], ax=ax)\n",
        "plt.legend(['Survived == 1', 'Survived == 0'])\n",
        "plt.show()"
      ],
      "execution_count": 0,
      "outputs": []
    },
    {
      "cell_type": "markdown",
      "metadata": {
        "id": "FgKi6HlWIi3i",
        "colab_type": "text"
      },
      "source": [
        "- 나이가 어릴 수록 생존률이 높음"
      ]
    },
    {
      "cell_type": "code",
      "metadata": {
        "id": "Wi0SdtEKJg_l",
        "colab_type": "code",
        "colab": {}
      },
      "source": [
        "# 히스토그램 vs. kdeplot()\n",
        "# kdeplot()이 부드럽게 그림\n",
        "# (참고) 커널밀도추정 https://blog.naver.com/loiu870422/220660847923\n",
        "df_train[df_train['Survived']==1]['Age'].hist()"
      ],
      "execution_count": 0,
      "outputs": []
    },
    {
      "cell_type": "code",
      "metadata": {
        "id": "JqJ8iZzaKsaH",
        "colab_type": "code",
        "colab": {}
      },
      "source": [
        "# pandas indexing\n",
        "df_train.iloc[0,:]"
      ],
      "execution_count": 0,
      "outputs": []
    },
    {
      "cell_type": "code",
      "metadata": {
        "id": "IUkGqVJbLgvl",
        "colab_type": "code",
        "colab": {}
      },
      "source": [
        "for row in df_train.iterrows():\n",
        "  break\n",
        "row"
      ],
      "execution_count": 0,
      "outputs": []
    },
    {
      "cell_type": "code",
      "metadata": {
        "id": "CSHXJvayLp8X",
        "colab_type": "code",
        "colab": {}
      },
      "source": [
        "df_train['Survived'] == 1"
      ],
      "execution_count": 0,
      "outputs": []
    },
    {
      "cell_type": "code",
      "metadata": {
        "id": "_PeIJ28sL4U-",
        "colab_type": "code",
        "colab": {}
      },
      "source": [
        "df_train[df_train['Survived']==1]"
      ],
      "execution_count": 0,
      "outputs": []
    },
    {
      "cell_type": "code",
      "metadata": {
        "id": "DM4hH0RuMdHG",
        "colab_type": "code",
        "colab": {}
      },
      "source": [
        "# figsize\n",
        "# 아래 세 예제는 동일\n",
        "#f = plt.figure(figsize=(10,10))\n",
        "#f, ax = plt.subplots(1,1,figsize=(10,10))\n",
        "#plt.figure(figsize=(10,10))\n",
        "f, ax = plt.subplots(1,1,figsize=(5,5))\n",
        "a = np.arange(100)\n",
        "b = np.sin(a)\n",
        "ax.plot(b)\n",
        "\n",
        "plt.figure(figsize=(5,5))\n",
        "plt.plot(b)"
      ],
      "execution_count": 0,
      "outputs": []
    },
    {
      "cell_type": "code",
      "metadata": {
        "id": "2sk6tTEgIsG0",
        "colab_type": "code",
        "colab": {}
      },
      "source": [
        "# Pclass와 Age 로 확인\n",
        "plt.figure(figsize=(8, 6))\n",
        "df_train['Age'][df_train['Pclass'] == 1].plot(kind='kde')\n",
        "df_train['Age'][df_train['Pclass'] == 2].plot(kind='kde')\n",
        "df_train['Age'][df_train['Pclass'] == 3].plot(kind='kde')\n",
        "\n",
        "plt.xlabel('Age')\n",
        "plt.title('Age Distribution within classes')\n",
        "plt.legend(['1st Class', '2nd Class', '3rd Class'])"
      ],
      "execution_count": 0,
      "outputs": []
    },
    {
      "cell_type": "code",
      "metadata": {
        "id": "ViGmmuOfO75m",
        "colab_type": "code",
        "colab": {}
      },
      "source": [
        "fig, ax = plt.subplots(1,3,figsize=(20,5))\n",
        "sns.kdeplot(df_train[(df_train['Survived']==0) & (df_train['Pclass']==1)]['Age'], ax=ax[0])\n",
        "sns.kdeplot(df_train[(df_train['Survived']==1) & (df_train['Pclass']==1)]['Age'], ax=ax[0])\n",
        "ax[0].set_title('1st class')\n",
        "ax[0].legend(['Survived==0', 'Survived==1'])   \n",
        "sns.kdeplot(df_train[(df_train['Survived']==0) & (df_train['Pclass']==2)]['Age'], ax=ax[1])\n",
        "sns.kdeplot(df_train[(df_train['Survived']==1) & (df_train['Pclass']==2)]['Age'], ax=ax[1])\n",
        "ax[1].set_title('2nc class')\n",
        "ax[1].legend(['Survived==0', 'Survived==1'])   \n",
        "sns.kdeplot(df_train[(df_train['Survived']==0) & (df_train['Pclass']==3)]['Age'], ax=ax[2])\n",
        "sns.kdeplot(df_train[(df_train['Survived']==1) & (df_train['Pclass']==3)]['Age'], ax=ax[2])\n",
        "ax[2].set_title('3rd class')\n",
        "ax[2].legend(['Survived==0', 'Survived==1'])                               \n",
        "plt.show()\n"
      ],
      "execution_count": 0,
      "outputs": []
    },
    {
      "cell_type": "markdown",
      "metadata": {
        "id": "n1WuIRTyI0SY",
        "colab_type": "text"
      },
      "source": [
        "- Class가 높을 수록 나이 많은 사람의 비중이 커짐"
      ]
    },
    {
      "cell_type": "code",
      "metadata": {
        "id": "x9gwjypEI9hl",
        "colab_type": "code",
        "colab": {}
      },
      "source": [
        "# 나이 범위에 따른 생존률\n",
        "cummulate_survival_ratio = []\n",
        "for i in range(1, 80):\n",
        "    cummulate_survival_ratio.append(\n",
        "        df_train[df_train['Age'] < i]['Survived'].sum() / \n",
        "        len(df_train[df_train['Age'] < i]['Survived']))\n",
        "    \n",
        "plt.figure(figsize=(7, 7))\n",
        "plt.plot(cummulate_survival_ratio)\n",
        "plt.title('Survival rate change depending on range of Age', y=1.02)\n",
        "plt.ylabel('Survival rate')\n",
        "plt.xlabel('Range of Age(0~x)')\n",
        "plt.show()"
      ],
      "execution_count": 0,
      "outputs": []
    },
    {
      "cell_type": "markdown",
      "metadata": {
        "id": "p3ZP4QBXJGn3",
        "colab_type": "text"
      },
      "source": [
        "- 나이가 어릴 수록 생존 확률이 높음\n",
        "- Age는 중요한 feature 임을 알 수 있음"
      ]
    },
    {
      "cell_type": "markdown",
      "metadata": {
        "id": "W4rnlQA6JSH6",
        "colab_type": "text"
      },
      "source": [
        "### Pclass, Sex, Age\n",
        "- Pclass, Sex, Age 세 개의 feature에 대한 시각화\n",
        "- seaborn violinplot 사용\n",
        "  - x축 : 나누어 보고 싶은 case (Pclass, Sex)\n",
        "  - y축 : 보고 싶은 distribution (Age)"
      ]
    },
    {
      "cell_type": "code",
      "metadata": {
        "id": "SRSIjcf0L0rv",
        "colab_type": "code",
        "colab": {}
      },
      "source": [
        "# scale='count', scale='area'\n",
        "f,ax=plt.subplots(1,2,figsize=(18,8))\n",
        "sns.violinplot(\"Pclass\",\"Age\", hue=\"Survived\", data=df_train, scale='count', \n",
        "               split=True,ax=ax[0])\n",
        "ax[0].set_title('Pclass and Age vs Survived')\n",
        "ax[0].set_yticks(range(0,110,10))\n",
        "sns.violinplot(\"Sex\",\"Age\", hue=\"Survived\", data=df_train, scale='count', \n",
        "               split=True,ax=ax[1])\n",
        "ax[1].set_title('Sex and Age vs Survived')\n",
        "ax[1].set_yticks(range(0,110,10))\n",
        "plt.show()"
      ],
      "execution_count": 0,
      "outputs": []
    },
    {
      "cell_type": "markdown",
      "metadata": {
        "id": "82DGH8XRTo64",
        "colab_type": "text"
      },
      "source": [
        "- 왼쪽 그림: Pclass 별로 Age의 분포가 어떻게 다른지, 생존 여부에 따라 구분한 그래프\n",
        "- 오른쪽 그림: Sex, Age에 따른 생존 여부\n",
        "- 모든 클래스에서 나이가 어릴 수록 생존률이 높음\n",
        "- 오른쪽 그림에서, female 이 생존률이 높음\n",
        "- 여성과 아이를 먼저 챙긴 것을 알 수 있음"
      ]
    },
    {
      "cell_type": "markdown",
      "metadata": {
        "id": "wTyRMG6hUvPN",
        "colab_type": "text"
      },
      "source": [
        "### Embarked\n",
        "- 탑승한 항구에 따른 생존률 확인"
      ]
    },
    {
      "cell_type": "code",
      "metadata": {
        "id": "ObDyelJIU2gp",
        "colab_type": "code",
        "colab": {}
      },
      "source": [
        "f, ax = plt.subplots(1, 1, figsize=(7, 7))\n",
        "df_train[['Embarked', 'Survived']].groupby(['Embarked'], \n",
        "              as_index=True).mean().sort_values(by='Survived', \n",
        "                                      ascending=False).plot.bar(ax=ax)"
      ],
      "execution_count": 0,
      "outputs": []
    },
    {
      "cell_type": "markdown",
      "metadata": {
        "id": "g83Lh63ZU4v5",
        "colab_type": "text"
      },
      "source": [
        "- 생존률이 비슷"
      ]
    },
    {
      "cell_type": "code",
      "metadata": {
        "id": "V0FQfZQdU_1x",
        "colab_type": "code",
        "colab": {}
      },
      "source": [
        "# 다른 feature로 split하여 확인\n",
        "f,ax=plt.subplots(2, 2, figsize=(20,15))\n",
        "sns.countplot('Embarked', data=df_train, ax=ax[0,0])\n",
        "ax[0,0].set_title('(1) No. Of Passengers Boarded')\n",
        "sns.countplot('Embarked', hue='Sex', data=df_train, ax=ax[0,1])\n",
        "ax[0,1].set_title('(2) Male-Female Split for Embarked')\n",
        "sns.countplot('Embarked', hue='Survived', data=df_train, ax=ax[1,0])\n",
        "ax[1,0].set_title('(3) Embarked vs Survived')\n",
        "sns.countplot('Embarked', hue='Pclass', data=df_train, ax=ax[1,1])\n",
        "ax[1,1].set_title('(4) Embarked vs Pclass')\n",
        "plt.subplots_adjust(wspace=0.2, hspace=0.5)\n",
        "plt.show()"
      ],
      "execution_count": 0,
      "outputs": []
    },
    {
      "cell_type": "markdown",
      "metadata": {
        "id": "aNRfKNW6VFgq",
        "colab_type": "text"
      },
      "source": [
        "- Figure 1: S에서 가장 많은 사람이 탑승\n",
        "- Figure 2: C와 Q는 남녀 비율이 비슷, S는 남자가 더 많음\n",
        "- Figure 3: S가 생존확률이 가장 낮음\n",
        "- Figure 4: C가 생존 확률이 높음. 클래스가 높은 사람이 많이 탄 이유. S는 3rd class가 많아서 생존 확률이 낮음"
      ]
    },
    {
      "cell_type": "markdown",
      "metadata": {
        "id": "FzrWze94VvUm",
        "colab_type": "text"
      },
      "source": [
        "### Family\n",
        "- SibSp(형제 자매)\n",
        "- Parch(부모, 자녀)"
      ]
    },
    {
      "cell_type": "code",
      "metadata": {
        "id": "RG1LVZu1V1KT",
        "colab_type": "code",
        "colab": {}
      },
      "source": [
        "# 새로운 컬럼(Family) 추가\n",
        "# series 타입은 서로 더할 수 있음\n",
        "# 자신을 포함하기 위해 1을 더함\n",
        "df_train['FamilySize'] = df_train['SibSp'] + df_train['Parch'] + 1 \n",
        "df_test['FamilySize'] = df_test['SibSp'] + df_test['Parch'] + 1 \n",
        "\n",
        "print(\"Maximum size of Family: \", df_train['FamilySize'].max())\n",
        "print(\"Minimum size of Family: \", df_train['FamilySize'].min())"
      ],
      "execution_count": 0,
      "outputs": []
    },
    {
      "cell_type": "code",
      "metadata": {
        "id": "s4L4MmI9XBjg",
        "colab_type": "code",
        "colab": {}
      },
      "source": [
        "# Family 크기와 생존 관계\n",
        "f,ax=plt.subplots(1, 3, figsize=(40,10))\n",
        "sns.countplot('FamilySize', data=df_train, ax=ax[0])\n",
        "ax[0].set_title('(1) No. Of Passengers Boarded', y=1.02)\n",
        "\n",
        "sns.countplot('FamilySize', hue='Survived', data=df_train, ax=ax[1])\n",
        "ax[1].set_title('(2) Survived countplot depending on FamilySize',  y=1.02)\n",
        "\n",
        "df_train[['FamilySize', 'Survived']].groupby(['FamilySize'], \n",
        "                    as_index=True).mean().sort_values(by='Survived', \n",
        "                                         ascending=False).plot.bar(ax=ax[2])\n",
        "ax[2].set_title('(3) Survived rate depending on FamilySize',  y=1.02)\n",
        "\n",
        "plt.subplots_adjust(wspace=0.2, hspace=0.5)\n",
        "plt.show()"
      ],
      "execution_count": 0,
      "outputs": []
    },
    {
      "cell_type": "markdown",
      "metadata": {
        "id": "b0DgOoR8Xj1Y",
        "colab_type": "text"
      },
      "source": [
        "- Figure 1: 가족 크기는 1 ~ 11. 대부분 1명, 그 다음은 2~4명\n",
        "- Figure 2, 3: \n",
        "  - 가족이 4명인 경우 생존 확률이 가장 높음\n",
        "  - 가족 수가 많아질 수록 생존 확률이 낮아짐\n",
        "  - 가족 수가 너무 작거나, 너무 커도 생존 확률이 낮음\n",
        "  - 가족 수 3~4명이 생존 확률이 높음"
      ]
    },
    {
      "cell_type": "markdown",
      "metadata": {
        "id": "lCFJ6DU7YBh3",
        "colab_type": "text"
      },
      "source": [
        "### Fare (탑승 요금)\n",
        "- continuous feature\n"
      ]
    },
    {
      "cell_type": "code",
      "metadata": {
        "id": "pCsj0KlMYSgR",
        "colab_type": "code",
        "colab": {}
      },
      "source": [
        "# histogram\n",
        "fig, ax = plt.subplots(1, 1, figsize=(8, 8))\n",
        "g = sns.distplot(df_train['Fare'], color='b', \n",
        "                 label='Skewness : {:.2f}'.format(df_train['Fare'].skew()), ax=ax)\n",
        "g = g.legend(loc='best')"
      ],
      "execution_count": 0,
      "outputs": []
    },
    {
      "cell_type": "markdown",
      "metadata": {
        "id": "Gz0h-35pYXNO",
        "colab_type": "text"
      },
      "source": [
        "- distribution이 비대칭 (high skewness)\n",
        "  - 이대로 모델에 넣어 줄 경우, 모델이 잘못 학습할 수 있음\n",
        "  - outlier에 민감하게 반응한다면 예측시에 좋지 못한 결과를 부름\n",
        "- outlier의 영향을 줄이기 위해 Fare에 log 적용\n",
        "- pandas DataFrame의 특정 컬럼에 공통된 작업(함수)을 적용하는 경우,  map 또는 apply 사용\n"
      ]
    },
    {
      "cell_type": "code",
      "metadata": {
        "id": "Xx70XwbbY1Tg",
        "colab_type": "code",
        "colab": {}
      },
      "source": [
        "# NULL값 치환\n",
        "df_train.loc[df_train.Fare.isnull(), 'Fare'] = df_train['Fare'].mean()\n",
        "df_test.loc[df_test.Fare.isnull(), 'Fare'] = df_test['Fare'].mean()\n",
        "\n",
        "df_train['Fare'] = df_train['Fare'].map(lambda i: np.log(i) if i>0 else 0)\n",
        "df_test['Fare'] = df_test['Fare'].map(lambda i: np.log(i) if i>0 else 0)\n",
        "\n",
        "fig, ax = plt.subplots(1, 1, figsize=(8, 8))\n",
        "g = sns.distplot(df_train['Fare'], color='b', \n",
        "            label='Skewness : {:.2f}'.format(df_train['Fare'].skew()), ax=ax)\n",
        "g = g.legend(loc='best')"
      ],
      "execution_count": 0,
      "outputs": []
    },
    {
      "cell_type": "markdown",
      "metadata": {
        "id": "4HO2iLqsadsO",
        "colab_type": "text"
      },
      "source": [
        "- log를 취하니, 비대칭성이 많이 사라짐\n",
        "- feature engineering 적용\n",
        "- 모델을 학습시키고, 모델의 성능을 높이기 위해 feature 들에 여러 조작을 가하거나, 새로운 feature를 추가하는 작업"
      ]
    },
    {
      "cell_type": "markdown",
      "metadata": {
        "id": "UT5nl2GbbH7q",
        "colab_type": "text"
      },
      "source": [
        "### Cabin\n",
        "- NaN 이 약 80%\n",
        "- 생존에 영향을 미칠 중요한 정보를 얻어내기는 쉽지 않음\n",
        "- 모델에 포함하지 않는 것이 좋음"
      ]
    },
    {
      "cell_type": "code",
      "metadata": {
        "id": "9US8jgHJbVRc",
        "colab_type": "code",
        "colab": {}
      },
      "source": [
        "df_train.head()"
      ],
      "execution_count": 0,
      "outputs": []
    },
    {
      "cell_type": "markdown",
      "metadata": {
        "id": "Wbf-_vgobXeh",
        "colab_type": "text"
      },
      "source": [
        "### Ticket\n",
        "- 다양한 문자열이 많음\n",
        "- 모델에 적용하기 위해서 다양한 아이디어 필요"
      ]
    },
    {
      "cell_type": "code",
      "metadata": {
        "id": "XEHi9TiXbmie",
        "colab_type": "code",
        "colab": {}
      },
      "source": [
        "df_train['Ticket'].value_counts()\n"
      ],
      "execution_count": 0,
      "outputs": []
    },
    {
      "cell_type": "markdown",
      "metadata": {
        "id": "BGFcsv_Vbo4L",
        "colab_type": "text"
      },
      "source": [
        "- ticket number 가 매우 다양함\n",
        "- 일단, 제외\n",
        "- [참고] 참고한 사이트\n",
        "  - https://www.kaggle.com/arthurtok/introduction-to-ensembling-stacking-in-python, https://www.kaggle.com/startupsci/titanic-data-science-solutions, https://www.kaggle.com/ash316/eda-to-prediction-dietanic, https://www.kaggle.com/yassineghouzam/titanic-top-4-with-ensemble-modeling "
      ]
    },
    {
      "cell_type": "markdown",
      "metadata": {
        "id": "39-SKaYTb-iK",
        "colab_type": "text"
      },
      "source": [
        "## 3. Feature Engineering\n",
        "- dataset에 존재하는 null data 채우기\n",
        "- null data를 포함하는 feature의 statistics를 참고하거나, 다른 아이디어 필요\n",
        "- 모델의 성능에 영향을 주는 중요한 작업\n",
        "- train 뿐만 아니라 test dataset에도 동일하게 적용해야 함"
      ]
    },
    {
      "cell_type": "markdown",
      "metadata": {
        "id": "gk_Xj5Kkc_lC",
        "colab_type": "text"
      },
      "source": [
        "### Age의 NULL 처리\n",
        "- Age에는 null 데이터가 177개나 존재\n",
        "- title과 statistics를 사용하여 채워보기\n",
        "  - Miss, Mrr, Mrs 사용\n",
        "- pandas의 str.extract()를 사용하여 title 추출 (정규표현식 사용)"
      ]
    },
    {
      "cell_type": "code",
      "metadata": {
        "id": "zuRUdbutdeX3",
        "colab_type": "code",
        "colab": {}
      },
      "source": [
        "df_train['Age'].isnull().sum()"
      ],
      "execution_count": 0,
      "outputs": []
    },
    {
      "cell_type": "code",
      "metadata": {
        "id": "eGoLW-Rld2wl",
        "colab_type": "code",
        "colab": {}
      },
      "source": [
        "df_train['Name']"
      ],
      "execution_count": 0,
      "outputs": []
    },
    {
      "cell_type": "code",
      "metadata": {
        "id": "3jniqKEEeX3g",
        "colab_type": "code",
        "colab": {}
      },
      "source": [
        "df_train['Name'].str.extract('([A-Za-z]+)\\.')"
      ],
      "execution_count": 0,
      "outputs": []
    },
    {
      "cell_type": "code",
      "metadata": {
        "id": "reA8FsredlhS",
        "colab_type": "code",
        "colab": {}
      },
      "source": [
        "# initial 항목으로 추출\n",
        "df_train['Initial']=0\n",
        "for i in df_train:\n",
        "    df_train['Initial']= df_train.Name.str.extract('([A-Za-z]+)\\.') \n",
        "    \n",
        "df_test['Initial']=0\n",
        "for i in df_test:\n",
        "    df_test['Initial']= df_test.Name.str.extract('([A-Za-z]+)\\.')"
      ],
      "execution_count": 0,
      "outputs": []
    },
    {
      "cell_type": "code",
      "metadata": {
        "id": "m7NPOFsVdsqv",
        "colab_type": "code",
        "colab": {}
      },
      "source": [
        "# Sex와 Initial에 대한 crosstab 확인\n",
        "pd.crosstab(df_train['Initial'], df_train['Sex']).T.style.background_gradient(cmap='summer_r')"
      ],
      "execution_count": 0,
      "outputs": []
    },
    {
      "cell_type": "code",
      "metadata": {
        "id": "PlDXHGZOfF_T",
        "colab_type": "code",
        "colab": {}
      },
      "source": [
        "# 위 테이블을 참고하여,\n",
        "# initial 치환\n",
        "df_train['Initial'].replace(['Mlle','Mme','Ms','Dr','Major','Lady','Countess',\n",
        "                          'Jonkheer','Col','Rev','Capt','Sir','Don', 'Dona'],\n",
        "                        ['Miss','Miss','Miss','Mr','Mr','Mrs','Mrs','Other',\n",
        "                       'Other','Other','Mr','Mr','Mr', 'Mr'],inplace=True)\n",
        "\n",
        "df_test['Initial'].replace(['Mlle','Mme','Ms','Dr','Major','Lady','Countess',\n",
        "                          'Jonkheer','Col','Rev','Capt','Sir','Don', 'Dona'],\n",
        "                        ['Miss','Miss','Miss','Mr','Mr','Mrs','Mrs','Other',\n",
        "                         'Other','Other','Mr','Mr','Mr', 'Mr'],inplace=True)"
      ],
      "execution_count": 0,
      "outputs": []
    },
    {
      "cell_type": "code",
      "metadata": {
        "id": "vtMUwlKCfb17",
        "colab_type": "code",
        "colab": {}
      },
      "source": [
        "pd.crosstab(df_train['Initial'], df_train['Sex']).T.style.background_gradient(cmap='summer_r')"
      ],
      "execution_count": 0,
      "outputs": []
    },
    {
      "cell_type": "code",
      "metadata": {
        "id": "3cPnae6Pfkb9",
        "colab_type": "code",
        "colab": {}
      },
      "source": [
        "df_train.groupby('Initial').mean()"
      ],
      "execution_count": 0,
      "outputs": []
    },
    {
      "cell_type": "code",
      "metadata": {
        "id": "KtdLBDhcfyha",
        "colab_type": "code",
        "colab": {}
      },
      "source": [
        "# 생존률 확인\n",
        "df_train.groupby('Initial')['Survived'].mean().plot.bar()"
      ],
      "execution_count": 0,
      "outputs": []
    },
    {
      "cell_type": "markdown",
      "metadata": {
        "id": "N6ZE4I8ef6_3",
        "colab_type": "text"
      },
      "source": [
        "- 어린 아이(Master)와 여성과 관계 있는 Miss, Mrs가 생존률이 높음"
      ]
    },
    {
      "cell_type": "markdown",
      "metadata": {
        "id": "4IECD2VEgWor",
        "colab_type": "text"
      },
      "source": [
        "#### train, test 전체 셋을 사용하여 Age의 null 값 처리\n",
        "- pandas의 concat을 이용하여 dataframe을 합침\n"
      ]
    },
    {
      "cell_type": "code",
      "metadata": {
        "id": "_wKr7sb2gpYV",
        "colab_type": "code",
        "colab": {}
      },
      "source": [
        "df_all = pd.concat([df_train, df_test])\n",
        "df_all"
      ],
      "execution_count": 0,
      "outputs": []
    },
    {
      "cell_type": "code",
      "metadata": {
        "id": "8mLBgkyjh5tN",
        "colab_type": "code",
        "colab": {}
      },
      "source": [
        "df_all.reset_index(drop=True)"
      ],
      "execution_count": 0,
      "outputs": []
    },
    {
      "cell_type": "code",
      "metadata": {
        "id": "U5qEGC-Thykq",
        "colab_type": "code",
        "colab": {}
      },
      "source": [
        "df_all.groupby('Initial').mean()"
      ],
      "execution_count": 0,
      "outputs": []
    },
    {
      "cell_type": "markdown",
      "metadata": {
        "id": "k2X0QUWCgu-C",
        "colab_type": "text"
      },
      "source": [
        "- Age의 평균을 이용하여 Null 값 채우기\n",
        "  - Mr인 경우, Age 값을 33으로 치환\n",
        "- loc + boolean + column을 사용하여 값을 치환하는 방법\n",
        "- [참고] 다른 방법 참고:\n",
        "  - https://www.kaggle.com/yassineghouzam/titanic-top-4-with-ensemble-modeling"
      ]
    },
    {
      "cell_type": "code",
      "metadata": {
        "id": "B_yVlzUFg_Bj",
        "colab_type": "code",
        "colab": {}
      },
      "source": [
        "df_train.loc[(df_train.Age.isnull())&(df_train.Initial=='Mr'),'Age']=33\n",
        "df_train.loc[(df_train.Age.isnull())&(df_train.Initial=='Mrs'),'Age']=37\n",
        "df_train.loc[(df_train.Age.isnull())&(df_train.Initial=='Master'),'Age']=5\n",
        "df_train.loc[(df_train.Age.isnull())&(df_train.Initial=='Miss'),'Age']=22\n",
        "df_train.loc[(df_train.Age.isnull())&(df_train.Initial=='Other'),'Age']=45\n",
        "\n",
        "df_test.loc[(df_test.Age.isnull())&(df_test.Initial=='Mr'),'Age']=33\n",
        "df_test.loc[(df_test.Age.isnull())&(df_test.Initial=='Mrs'),'Age']=37\n",
        "df_test.loc[(df_test.Age.isnull())&(df_test.Initial=='Master'),'Age']=5\n",
        "df_test.loc[(df_test.Age.isnull())&(df_test.Initial=='Miss'),'Age']=22\n",
        "df_test.loc[(df_test.Age.isnull())&(df_test.Initial=='Other'),'Age']=45"
      ],
      "execution_count": 0,
      "outputs": []
    },
    {
      "cell_type": "code",
      "metadata": {
        "id": "GPwgE2ufjUY4",
        "colab_type": "code",
        "colab": {}
      },
      "source": [
        "df_train['Age'].isnull().sum()"
      ],
      "execution_count": 0,
      "outputs": []
    },
    {
      "cell_type": "code",
      "metadata": {
        "id": "22AG00f0jYK1",
        "colab_type": "code",
        "colab": {}
      },
      "source": [
        "df_test['Age'].isnull().sum()"
      ],
      "execution_count": 0,
      "outputs": []
    },
    {
      "cell_type": "markdown",
      "metadata": {
        "id": "n9SrY8C3jazl",
        "colab_type": "text"
      },
      "source": [
        "#### Embarked의 Null 값 처리\n",
        "- null 값이 2개 있으며, S에서 탑승객이 가장 많음므로 null을 S로 채움\n",
        "- dataframe의 fillna() 사용"
      ]
    },
    {
      "cell_type": "code",
      "metadata": {
        "id": "eQbNU4nuj0ZQ",
        "colab_type": "code",
        "colab": {}
      },
      "source": [
        "df_train['Embarked'].isnull().sum()"
      ],
      "execution_count": 0,
      "outputs": []
    },
    {
      "cell_type": "code",
      "metadata": {
        "id": "9eZNm8tzj7wp",
        "colab_type": "code",
        "colab": {}
      },
      "source": [
        "df_train.shape"
      ],
      "execution_count": 0,
      "outputs": []
    },
    {
      "cell_type": "code",
      "metadata": {
        "id": "a9rPshDwkA1O",
        "colab_type": "code",
        "colab": {}
      },
      "source": [
        "df_train['Embarked'].fillna('S', inplace=True)"
      ],
      "execution_count": 0,
      "outputs": []
    },
    {
      "cell_type": "markdown",
      "metadata": {
        "id": "M6T1mUwOkHFX",
        "colab_type": "text"
      },
      "source": [
        "### Age 변환\n",
        "- continus 값을 categorical 값으로 변환\n",
        "  - 정보 손실이 있을 수 있으므로 주의가 필요\n",
        "- Age를 몇 개의 group으로 나누어서 category화 시킴\n",
        "- dataframe의 loc 또는 apply() 사용"
      ]
    },
    {
      "cell_type": "code",
      "metadata": {
        "id": "eGAHEd3CknOL",
        "colab_type": "code",
        "colab": {}
      },
      "source": [
        "df_train['Age_cat'] = 0\n",
        "\n",
        "df_train.head()"
      ],
      "execution_count": 0,
      "outputs": []
    },
    {
      "cell_type": "code",
      "metadata": {
        "id": "JfAqjnvMkwhK",
        "colab_type": "code",
        "colab": {}
      },
      "source": [
        "# loc 이용\n",
        "# 10살 간격으로 나누기\n",
        "df_train['Age_cat'] = 0\n",
        "df_train.loc[df_train['Age'] < 10, 'Age_cat'] = 0\n",
        "df_train.loc[(10 <= df_train['Age']) & (df_train['Age'] < 20), 'Age_cat'] = 1\n",
        "df_train.loc[(20 <= df_train['Age']) & (df_train['Age'] < 30), 'Age_cat'] = 2\n",
        "df_train.loc[(30 <= df_train['Age']) & (df_train['Age'] < 40), 'Age_cat'] = 3\n",
        "df_train.loc[(40 <= df_train['Age']) & (df_train['Age'] < 50), 'Age_cat'] = 4\n",
        "df_train.loc[(50 <= df_train['Age']) & (df_train['Age'] < 60), 'Age_cat'] = 5\n",
        "df_train.loc[(60 <= df_train['Age']) & (df_train['Age'] < 70), 'Age_cat'] = 6\n",
        "df_train.loc[70 <= df_train['Age'], 'Age_cat'] = 7\n",
        "\n",
        "df_test['Age_cat'] = 0\n",
        "df_test.loc[df_test['Age'] < 10, 'Age_cat'] = 0\n",
        "df_test.loc[(10 <= df_test['Age']) & (df_test['Age'] < 20), 'Age_cat'] = 1\n",
        "df_test.loc[(20 <= df_test['Age']) & (df_test['Age'] < 30), 'Age_cat'] = 2\n",
        "df_test.loc[(30 <= df_test['Age']) & (df_test['Age'] < 40), 'Age_cat'] = 3\n",
        "df_test.loc[(40 <= df_test['Age']) & (df_test['Age'] < 50), 'Age_cat'] = 4\n",
        "df_test.loc[(50 <= df_test['Age']) & (df_test['Age'] < 60), 'Age_cat'] = 5\n",
        "df_test.loc[(60 <= df_test['Age']) & (df_test['Age'] < 70), 'Age_cat'] = 6\n",
        "df_test.loc[70 <= df_test['Age'], 'Age_cat'] = 7"
      ],
      "execution_count": 0,
      "outputs": []
    },
    {
      "cell_type": "code",
      "metadata": {
        "id": "Y73dPxIflE3E",
        "colab_type": "code",
        "colab": {}
      },
      "source": [
        "df_train.head()"
      ],
      "execution_count": 0,
      "outputs": []
    },
    {
      "cell_type": "code",
      "metadata": {
        "id": "PQqBOOuvlTmc",
        "colab_type": "code",
        "colab": {}
      },
      "source": [
        "# apply() 함수 사용한 방법\n",
        "def category_age(x):\n",
        "    if x < 10:\n",
        "        return 0\n",
        "    elif x < 20:\n",
        "        return 1\n",
        "    elif x < 30:\n",
        "        return 2\n",
        "    elif x < 40:\n",
        "        return 3\n",
        "    elif x < 50:\n",
        "        return 4\n",
        "    elif x < 60:\n",
        "        return 5\n",
        "    elif x < 70:\n",
        "        return 6\n",
        "    else:\n",
        "        return 7    \n",
        "    \n",
        "df_train['Age_cat_2'] = df_train['Age'].apply(category_age)\n"
      ],
      "execution_count": 0,
      "outputs": []
    },
    {
      "cell_type": "code",
      "metadata": {
        "id": "cPg6bzNHlYxr",
        "colab_type": "code",
        "colab": {}
      },
      "source": [
        "df_train.head()"
      ],
      "execution_count": 0,
      "outputs": []
    },
    {
      "cell_type": "code",
      "metadata": {
        "id": "_3KtunW5lbfe",
        "colab_type": "code",
        "colab": {}
      },
      "source": [
        "# 두 가지 방법의 비교\n",
        "# all() : 모두 True 일 때, True\n",
        "# any() : 하나라도 True이면 True\n",
        "(df_train['Age_cat'] == df_train['Age_cat_2']).all()"
      ],
      "execution_count": 0,
      "outputs": []
    },
    {
      "cell_type": "code",
      "metadata": {
        "id": "cVoWyq8xlpHt",
        "colab_type": "code",
        "colab": {}
      },
      "source": [
        "# Age 컬럼 삭제\n",
        "# axis=1\n",
        "df_train.drop(['Age', 'Age_cat_2'], axis=1, inplace=True)\n",
        "df_test.drop(['Age'], axis=1, inplace=True)"
      ],
      "execution_count": 0,
      "outputs": []
    },
    {
      "cell_type": "markdown",
      "metadata": {
        "id": "Ak-2wGnXmFLp",
        "colab_type": "text"
      },
      "source": [
        "### Initial 변경\n",
        "- Mr, Mrs, Miss, Master, Other 로 구성\n",
        "- 카테고리로 표현되어져 있는 데이터를 컴퓨터가 인식할 수 있도록 수치화\n",
        "- map() 사용"
      ]
    },
    {
      "cell_type": "code",
      "metadata": {
        "id": "hUpscRVl90vG",
        "colab_type": "code",
        "colab": {}
      },
      "source": [
        "df_train.Initial.unique()"
      ],
      "execution_count": 0,
      "outputs": []
    },
    {
      "cell_type": "code",
      "metadata": {
        "id": "_UE7ZVh794Ir",
        "colab_type": "code",
        "colab": {}
      },
      "source": [
        "df_train['Initial'] = df_train['Initial'].map(\n",
        "    {'Master': 0, 'Miss': 1, 'Mr': 2, 'Mrs': 3, 'Other': 4})\n",
        "df_test['Initial'] = df_test['Initial'].map(\n",
        "    {'Master': 0, 'Miss': 1, 'Mr': 2, 'Mrs': 3, 'Other': 4})\n",
        "df_train.Initial.unique() "
      ],
      "execution_count": 0,
      "outputs": []
    },
    {
      "cell_type": "code",
      "metadata": {
        "id": "fPpX6h0T-G7a",
        "colab_type": "code",
        "colab": {}
      },
      "source": [
        "df_train.Initial.unique()"
      ],
      "execution_count": 0,
      "outputs": []
    },
    {
      "cell_type": "markdown",
      "metadata": {
        "id": "Ra9omHgm-I_U",
        "colab_type": "text"
      },
      "source": [
        "### Embarked 변경\n",
        "- S, C, Q로 구성"
      ]
    },
    {
      "cell_type": "code",
      "metadata": {
        "id": "OqCrp0rX-N1P",
        "colab_type": "code",
        "colab": {}
      },
      "source": [
        "df_train['Embarked'].unique()"
      ],
      "execution_count": 0,
      "outputs": []
    },
    {
      "cell_type": "code",
      "metadata": {
        "id": "ecM9B3dC-QY1",
        "colab_type": "code",
        "colab": {}
      },
      "source": [
        "df_train['Embarked'].value_counts()"
      ],
      "execution_count": 0,
      "outputs": []
    },
    {
      "cell_type": "code",
      "metadata": {
        "id": "GM7jIfhr-SJr",
        "colab_type": "code",
        "colab": {}
      },
      "source": [
        "df_train['Embarked'] = df_train['Embarked'].map({'C': 0, 'Q': 1, 'S': 2})\n",
        "df_test['Embarked'] = df_test['Embarked'].map({'C': 0, 'Q': 1, 'S': 2})"
      ],
      "execution_count": 0,
      "outputs": []
    },
    {
      "cell_type": "code",
      "metadata": {
        "id": "grq-hzUF-e-i",
        "colab_type": "code",
        "colab": {}
      },
      "source": [
        "df_train.head()"
      ],
      "execution_count": 0,
      "outputs": []
    },
    {
      "cell_type": "code",
      "metadata": {
        "id": "KUMybAGt-he4",
        "colab_type": "code",
        "colab": {}
      },
      "source": [
        "# null 확인\n",
        "df_train['Embarked'].isnull().any()"
      ],
      "execution_count": 0,
      "outputs": []
    },
    {
      "cell_type": "markdown",
      "metadata": {
        "id": "VbPGYMAV-pHk",
        "colab_type": "text"
      },
      "source": [
        "### Sex 변경\n",
        "- male, female 로 구성"
      ]
    },
    {
      "cell_type": "code",
      "metadata": {
        "id": "prOzr7Xh-wNs",
        "colab_type": "code",
        "colab": {}
      },
      "source": [
        "df_train['Sex'].unique()"
      ],
      "execution_count": 0,
      "outputs": []
    },
    {
      "cell_type": "code",
      "metadata": {
        "id": "C7UeE4Mi-1ls",
        "colab_type": "code",
        "colab": {}
      },
      "source": [
        "df_train['Sex'] = df_train['Sex'].map({'female': 0, 'male': 1})\n",
        "df_test['Sex'] = df_test['Sex'].map({'female': 0, 'male': 1})"
      ],
      "execution_count": 0,
      "outputs": []
    },
    {
      "cell_type": "code",
      "metadata": {
        "id": "QIXm8zfsAyaq",
        "colab_type": "code",
        "colab": {}
      },
      "source": [
        "df_train['Sex'].unique()"
      ],
      "execution_count": 0,
      "outputs": []
    },
    {
      "cell_type": "markdown",
      "metadata": {
        "id": "-A9blIHw-6JO",
        "colab_type": "text"
      },
      "source": [
        "#### Pearson Correlation\n",
        "- feature 들 간의 상관 관계 알아보기\n",
        "- (-1, 1) 사이의 값\n",
        "  - -1로 갈수록 음의 상관 관계\n",
        "  - 1로 갈수록 양의 상관 관계\n",
        "  - 0 : 상관 관계가 없음\n",
        "- matrix 형태의 heatmap plot 사용"
      ]
    },
    {
      "cell_type": "code",
      "metadata": {
        "id": "uyGJbxNw_Yhf",
        "colab_type": "code",
        "colab": {}
      },
      "source": [
        "heatmap_data = df_train[['Survived', 'Pclass', 'Sex', 'Fare', \n",
        "                         'Embarked', 'FamilySize', 'Initial', 'Age_cat']] \n",
        "\n",
        "colormap = plt.cm.RdBu\n",
        "plt.figure(figsize=(14, 12))\n",
        "plt.title('Pearson Correlation of Features', y=1.05, size=15)\n",
        "sns.heatmap(heatmap_data.astype(float).corr(), linewidths=0.1, vmax=1.0,\n",
        "           square=True, cmap=colormap, linecolor='white', annot=True, \n",
        "            annot_kws={\"size\": 16})\n",
        "\n",
        "del heatmap_data"
      ],
      "execution_count": 0,
      "outputs": []
    },
    {
      "cell_type": "markdown",
      "metadata": {
        "id": "ZKZab0fm_gTh",
        "colab_type": "text"
      },
      "source": [
        "- Sex, Pclass와 Survived에 상관 관계가 어느 정도 있음\n",
        "- Pclass와 Age_cat, Age_cat과 Initial 은 상관 관계 있음\n",
        "- 서로 강한 상관 관계를 가지는 feature들은 없음\n",
        "  - 모델을 학습시킬 때, 불필요한 feature는 없음을 의미 (redundant, superfluous feature 들)\n",
        "  "
      ]
    },
    {
      "cell_type": "code",
      "metadata": {
        "id": "Kck77O_tAhNr",
        "colab_type": "code",
        "colab": {}
      },
      "source": [
        ""
      ],
      "execution_count": 0,
      "outputs": []
    },
    {
      "cell_type": "markdown",
      "metadata": {
        "id": "pqYYu676DyA6",
        "colab_type": "text"
      },
      "source": [
        "## One-hot encoding\n",
        "- 카테고리 데이터를 (0, 1)로 이루어진 N차원 벡터로 나타내는 것\n",
        "- pandas.get_dummies() 사용"
      ]
    },
    {
      "cell_type": "markdown",
      "metadata": {
        "id": "y1Mr1kHZELAT",
        "colab_type": "text"
      },
      "source": [
        "### Initial 을 One-hot encoding으로 만들기"
      ]
    },
    {
      "cell_type": "code",
      "metadata": {
        "id": "Kflmr0PqEP1g",
        "colab_type": "code",
        "colab": {}
      },
      "source": [
        "df_train = pd.get_dummies(df_train, columns=['Initial'], prefix='Initial')\n",
        "df_test = pd.get_dummies(df_test, columns=['Initial'], prefix='Initial')\n",
        "\n",
        "df_train.head()"
      ],
      "execution_count": 0,
      "outputs": []
    },
    {
      "cell_type": "markdown",
      "metadata": {
        "id": "pJD5ZY6pEWo5",
        "colab_type": "text"
      },
      "source": [
        "### Embarked를 one-hot encoding\n",
        "\n"
      ]
    },
    {
      "cell_type": "code",
      "metadata": {
        "id": "o4DnhF20FAgI",
        "colab_type": "code",
        "colab": {}
      },
      "source": [
        "df_train = pd.get_dummies(df_train, columns=['Embarked'], prefix='Embarked')\n",
        "df_test = pd.get_dummies(df_test, columns=['Embarked'], prefix='Embarked')"
      ],
      "execution_count": 0,
      "outputs": []
    },
    {
      "cell_type": "markdown",
      "metadata": {
        "id": "GSfSy0LohdrZ",
        "colab_type": "text"
      },
      "source": [
        ""
      ]
    },
    {
      "cell_type": "code",
      "metadata": {
        "id": "UxwaxnReEwtW",
        "colab_type": "code",
        "colab": {}
      },
      "source": [
        "df_train.head()"
      ],
      "execution_count": 0,
      "outputs": []
    },
    {
      "cell_type": "markdown",
      "metadata": {
        "id": "_7B1eSBBE2ai",
        "colab_type": "text"
      },
      "source": [
        "## Drop columns \n",
        "- 불필요한 컬럼들 지우기\n"
      ]
    },
    {
      "cell_type": "code",
      "metadata": {
        "id": "2PiqZwnSGCTy",
        "colab_type": "code",
        "colab": {}
      },
      "source": [
        "df_train.drop(['PassengerId', 'Name', 'SibSp', 'Parch', 'Ticket', 'Cabin'], axis=1, inplace=True)\n",
        "df_test.drop(['PassengerId', 'Name',  'SibSp', 'Parch', 'Ticket', 'Cabin'], axis=1, inplace=True)\n"
      ],
      "execution_count": 0,
      "outputs": []
    },
    {
      "cell_type": "code",
      "metadata": {
        "id": "S0se411XGGjr",
        "colab_type": "code",
        "colab": {}
      },
      "source": [
        "df_train.head()"
      ],
      "execution_count": 0,
      "outputs": []
    },
    {
      "cell_type": "code",
      "metadata": {
        "id": "u9OD-Vd7GHNd",
        "colab_type": "code",
        "colab": {}
      },
      "source": [
        "df_test.head()"
      ],
      "execution_count": 0,
      "outputs": []
    },
    {
      "cell_type": "code",
      "metadata": {
        "id": "XRFy7qeYGJgN",
        "colab_type": "code",
        "colab": {}
      },
      "source": [
        ""
      ],
      "execution_count": 0,
      "outputs": []
    },
    {
      "cell_type": "markdown",
      "metadata": {
        "id": "rTzzEtXNGODh",
        "colab_type": "text"
      },
      "source": [
        "## 4. 모델 만들기\n",
        "- sklearn 사용\n",
        "  - feature engineering, preprocessing, 지도 학습 알고리즘, 비지도 학습 알고리즘, 모델 평가, 파이프 라인 등 구현\n",
        "- titanic 문제\n",
        "  - target class : Survived\n",
        "    - 0, 1 로 이루어진 binary classification 문제\n",
        "  - train set의 Survived 항목을 제외한 입력을 가지고, 모델을 최적화시켜서 각 샘플(탑승객)의 생존 유무를 판단하는 모델 만들기\n",
        "  - 모델이 학습하지 않은 test set을 입력으로 주어서 test set의 각 샘플(탑승객)의 생존 유무 예측"
      ]
    },
    {
      "cell_type": "code",
      "metadata": {
        "id": "6-1K7NLkHtgi",
        "colab_type": "code",
        "colab": {}
      },
      "source": [
        "from sklearn.ensemble import RandomForestClassifier  \n",
        "from sklearn import metrics \n",
        "from sklearn.model_selection import train_test_split"
      ],
      "execution_count": 0,
      "outputs": []
    },
    {
      "cell_type": "markdown",
      "metadata": {
        "id": "koq9cfRYHYxw",
        "colab_type": "text"
      },
      "source": [
        "### 준비 - 데이터 셋을 train, valid, test set으로 나누기\n",
        "- 보통은 train, test set으로 나누지만, valid set으로 모델 평가\n",
        "  - train : 팀 훈련\n",
        "  - valid : 평가전\n",
        "  - test : 대회"
      ]
    },
    {
      "cell_type": "code",
      "metadata": {
        "id": "_iaXI50WH2HR",
        "colab_type": "code",
        "colab": {}
      },
      "source": [
        "# 학습에 쓰일 데이터와 target label 분리\n",
        "X_train = df_train.drop('Survived', axis=1).values\n",
        "target_label = df_train['Survived'].values\n",
        "X_test = df_test.values"
      ],
      "execution_count": 0,
      "outputs": []
    },
    {
      "cell_type": "code",
      "metadata": {
        "id": "-PBPuWs2H9RV",
        "colab_type": "code",
        "colab": {}
      },
      "source": [
        "X_tr, X_vld, y_tr, y_vld = train_test_split(X_train, target_label, test_size=0.3, random_state=2018)"
      ],
      "execution_count": 0,
      "outputs": []
    },
    {
      "cell_type": "markdown",
      "metadata": {
        "id": "cZuZ8_1QIYXj",
        "colab_type": "text"
      },
      "source": [
        "- [참고] 머신러닝 알고리즘\n",
        "  - http://scikit-learn.org/stable/supervised_learning.html#supervised-learning"
      ]
    },
    {
      "cell_type": "markdown",
      "metadata": {
        "id": "9X-Xiyb3ItWY",
        "colab_type": "text"
      },
      "source": [
        "- 랜덤 포레스트 모델\n",
        "  - 결정 트리 기반 모델\n",
        "  - 여러 결정 트리들을 앙상블한 모델\n",
        "  - 파라미터\n",
        "    - n_estimators, max_features, max_depth, min_samples_split, min_samples_leaf\n",
        "  - 파라미터 튜닝에 따라 모델 성능이 달라짐\n",
        "  "
      ]
    },
    {
      "cell_type": "markdown",
      "metadata": {
        "id": "yG-IVfVfJEOW",
        "colab_type": "text"
      },
      "source": [
        "### 모델 생성 및 예측\n",
        "- RandomForestClassifier()\n",
        "- fit()\n",
        "- predict()"
      ]
    },
    {
      "cell_type": "code",
      "metadata": {
        "id": "TG9JrEyqJamR",
        "colab_type": "code",
        "colab": {}
      },
      "source": [
        "# 학습\n",
        "model = RandomForestClassifier()\n",
        "model.fit(X_tr, y_tr)\n"
      ],
      "execution_count": 0,
      "outputs": []
    },
    {
      "cell_type": "code",
      "metadata": {
        "id": "oAIgXWdzJiXW",
        "colab_type": "code",
        "colab": {}
      },
      "source": [
        "# 예측\n",
        "prediction = model.predict(X_vld)"
      ],
      "execution_count": 0,
      "outputs": []
    },
    {
      "cell_type": "code",
      "metadata": {
        "id": "CJgWGdjtJ9XJ",
        "colab_type": "code",
        "colab": {}
      },
      "source": [
        "prediction"
      ],
      "execution_count": 0,
      "outputs": []
    },
    {
      "cell_type": "code",
      "metadata": {
        "id": "dWbD6xJCJqKT",
        "colab_type": "code",
        "colab": {}
      },
      "source": [
        "# 정확도\n",
        "print('총 {}명 중 {:.2f}% 정확도로 생존을 맞춤'.format(y_vld.shape[0], 100 * metrics.accuracy_score(prediction, y_vld)))"
      ],
      "execution_count": 0,
      "outputs": []
    },
    {
      "cell_type": "code",
      "metadata": {
        "id": "G94Ge7v9JtOB",
        "colab_type": "code",
        "colab": {}
      },
      "source": [
        "print(X_tr.shape)\n",
        "print(X_vld.shape)"
      ],
      "execution_count": 0,
      "outputs": []
    },
    {
      "cell_type": "code",
      "metadata": {
        "id": "tm_QGIVlKRDJ",
        "colab_type": "code",
        "colab": {}
      },
      "source": [
        "(prediction == y_vld).sum()/prediction.shape[0]"
      ],
      "execution_count": 0,
      "outputs": []
    },
    {
      "cell_type": "markdown",
      "metadata": {
        "id": "AaG_8LqIKKQa",
        "colab_type": "text"
      },
      "source": [
        "### Feature Importance\n",
        "- 학습된 모델은 feature importance를 가짐\n",
        "- 만든 모델이 어떤 feature에 영향을 많이 받는지 확인할 수 있음\n",
        "- pandas series 사용"
      ]
    },
    {
      "cell_type": "code",
      "metadata": {
        "id": "wmp2FufMK39t",
        "colab_type": "code",
        "colab": {}
      },
      "source": [
        "model.feature_importances_"
      ],
      "execution_count": 0,
      "outputs": []
    },
    {
      "cell_type": "code",
      "metadata": {
        "id": "QItTogRnK57C",
        "colab_type": "code",
        "colab": {}
      },
      "source": [
        "df_train.head()\n"
      ],
      "execution_count": 0,
      "outputs": []
    },
    {
      "cell_type": "code",
      "metadata": {
        "id": "5MRbrKloLnfc",
        "colab_type": "code",
        "colab": {}
      },
      "source": [
        "from pandas import Series\n",
        "feature_importance = model.feature_importances_\n",
        "Series_feat_imp = Series(feature_importance, index=df_test.columns)"
      ],
      "execution_count": 0,
      "outputs": []
    },
    {
      "cell_type": "code",
      "metadata": {
        "id": "E4kEiiBvL0lZ",
        "colab_type": "code",
        "colab": {}
      },
      "source": [
        "plt.figure(figsize=(8, 8))\n",
        "Series_feat_imp.sort_values(ascending=True).plot.barh()\n",
        "plt.xlabel('Feature importance')\n",
        "plt.ylabel('Feature')\n",
        "plt.show()"
      ],
      "execution_count": 0,
      "outputs": []
    },
    {
      "cell_type": "markdown",
      "metadata": {
        "id": "hlUX8PMsL2M8",
        "colab_type": "text"
      },
      "source": [
        "- Fare가 가장 큰 영향력을 가짐. 그 뒤에 Initial_2, Age_cat, Pclass 순으로 중요도를 가짐\n",
        "- Fare가 중요한 feature일 수 있다고 판단을 내릴 수도 있지만, 결국 모델에 귀속되는 하나의 결론임. 통계적으로 더 살펴봐야 함\n",
        "- 좀 더 정확도 높은 모델을 얻기 위해 feature selection을 할 수도 있고, 좀 더 빠른 모델을 만들기 위해서는 feature를 제가할 수도 있음"
      ]
    },
    {
      "cell_type": "markdown",
      "metadata": {
        "id": "Av9PHMXqMb09",
        "colab_type": "text"
      },
      "source": [
        "### Test Set을 사용하여 Prediction\n",
        "- 모델을 학습하지 않았던 테스트 셋으로 생존 여부 예측\n",
        "- 캐글에서 준 파일 gender_submission.csv 을 사용하여 제출 준비\n"
      ]
    },
    {
      "cell_type": "code",
      "metadata": {
        "id": "anpzofxmMzUJ",
        "colab_type": "code",
        "colab": {}
      },
      "source": [
        "#WORK_DIR = '/content'\n",
        "WORK_DIR = '.'\n",
        "submission = pd.read_csv(WORK_DIR + '/datasets/sample_submission.csv')"
      ],
      "execution_count": 0,
      "outputs": []
    },
    {
      "cell_type": "code",
      "metadata": {
        "id": "mXj_w0tqNHIo",
        "colab_type": "code",
        "colab": {}
      },
      "source": [
        "submission.head()"
      ],
      "execution_count": 0,
      "outputs": []
    },
    {
      "cell_type": "markdown",
      "metadata": {
        "id": "GQZXYKsiNIa3",
        "colab_type": "text"
      },
      "source": [
        "#### test set에 대하여 예측하고, 결과를 csv에 저장"
      ]
    },
    {
      "cell_type": "code",
      "metadata": {
        "id": "NU6v5kxhNWR9",
        "colab_type": "code",
        "colab": {}
      },
      "source": [
        "prediction = model.predict(X_test)\n",
        "submission['Survived'] = prediction\n",
        "\n",
        "submission.to_csv('./baseline_submission.csv', index=False)"
      ],
      "execution_count": 0,
      "outputs": []
    },
    {
      "cell_type": "code",
      "metadata": {
        "id": "bS_lzJwK18RX",
        "colab_type": "code",
        "colab": {}
      },
      "source": [
        "!head -10 ./baseline_submission.csv"
      ],
      "execution_count": 0,
      "outputs": []
    },
    {
      "cell_type": "code",
      "metadata": {
        "id": "KtcGBvG3XzHv",
        "colab_type": "code",
        "colab": {}
      },
      "source": [
        ""
      ],
      "execution_count": 0,
      "outputs": []
    },
    {
      "cell_type": "markdown",
      "metadata": {
        "id": "EREZu72RNwXX",
        "colab_type": "text"
      },
      "source": [
        "### 캐글에 제출하기\n",
        "- 1) 명령어로 제출\n",
        "    - Commit\n",
        "    - OUTPUT\n",
        "    - Submit to Competition\n",
        "- 2) 웹 페이지에서 제출\n",
        "    - kaggle.com 접속\n",
        "    - Submit Predictions 클릭하여 업로드\n",
        "    \n",
        "\n"
      ]
    },
    {
      "cell_type": "code",
      "metadata": {
        "id": "iio69BcS2Wje",
        "colab_type": "code",
        "colab": {}
      },
      "source": [
        "#!kaggle competitions submit -c titanic -f baseline_submission.csv -m baseline_submit"
      ],
      "execution_count": 0,
      "outputs": []
    },
    {
      "cell_type": "code",
      "metadata": {
        "id": "XFYkdhgAe8A1",
        "colab_type": "code",
        "colab": {}
      },
      "source": [
        "from google.colab import files\n",
        "files.download(\"baseline_submission.csv\")\n"
      ],
      "execution_count": 0,
      "outputs": []
    },
    {
      "cell_type": "markdown",
      "metadata": {
        "id": "3t_Kdg3-QKCB",
        "colab_type": "text"
      },
      "source": [
        "# NEXT...\n",
        "- Feature Engineering\n",
        "  - Fare에 log() 적용했던 부분을 취소하고 commit 수행\n",
        "    - 결과는 더 안 좋아짐 확인!\n",
        "- 다양한 알고리즘 적용\n",
        "    - Light GBM\n",
        "    - CatBoost\n",
        "    - :\n",
        "  "
      ]
    },
    {
      "cell_type": "markdown",
      "metadata": {
        "id": "Vh-HcIpPPLaW",
        "colab_type": "text"
      },
      "source": [
        "- [참고]\n",
        "  - https://www.kaggle.com/arthurtok/introduction-to-ensembling-stacking-in-python, https://www.kaggle.com/startupsci/titanic-data-science-solutions, https://www.kaggle.com/ash316/eda-to-prediction-dietanic, https://www.kaggle.com/yassineghouzam/titanic-top-4-with-ensemble-modeling "
      ]
    },
    {
      "cell_type": "code",
      "metadata": {
        "id": "7zQfQ7Qy96Ev",
        "colab_type": "code",
        "colab": {}
      },
      "source": [
        ""
      ],
      "execution_count": 0,
      "outputs": []
    }
  ]
}